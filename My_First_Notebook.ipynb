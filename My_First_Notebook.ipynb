{
 "cells": [
  {
   "cell_type": "markdown",
   "id": "5b3bc648-2c70-4c81-8f43-542a25b4c540",
   "metadata": {},
   "source": [
    "My First Markdown cell in Jupyter"
   ]
  },
  {
   "cell_type": "code",
   "execution_count": null,
   "id": "092d7af1-dee8-42b6-b3b0-f621787dd8d2",
   "metadata": {},
   "outputs": [],
   "source": [
    "print(\"Hello, World\")"
   ]
  },
  {
   "cell_type": "code",
   "execution_count": null,
   "id": "5d0a776b-853e-4862-be7c-b246e581ff1f",
   "metadata": {},
   "outputs": [],
   "source": []
  }
 ],
 "metadata": {
  "kernelspec": {
   "display_name": "Python 3 (ipykernel)",
   "language": "python",
   "name": "python3"
  },
  "language_info": {
   "name": ""
  }
 },
 "nbformat": 4,
 "nbformat_minor": 5
}
